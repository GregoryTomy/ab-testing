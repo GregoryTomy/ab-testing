{
  "cells": [
    {
      "cell_type": "raw",
      "metadata": {},
      "source": [
        "---\n",
        "title: Gamerounds Analysis\n",
        "format: gfm\n",
        "---"
      ],
      "id": "fafe0020"
    },
    {
      "cell_type": "code",
      "metadata": {},
      "source": [
        "import pandas as pd\n",
        "import pymc as pm\n",
        "import arviz as az\n",
        "import matplotlib.pyplot as plt\n",
        "import preliz as pz\n",
        "\n",
        "plt.style.use('bmh')"
      ],
      "id": "c8784d32",
      "execution_count": null,
      "outputs": []
    },
    {
      "cell_type": "code",
      "metadata": {},
      "source": [
        "df = pd.read_csv(\"data/cookie_cats.txt\")\n",
        "df_no_outliers = pd.read_csv(\"data/data_no_outliers.csv\")\n",
        "\n",
        "print(df)\n",
        "print(\"\\n================================+================================\")\n",
        "print(df_no_outliers)"
      ],
      "id": "9c3b39b7",
      "execution_count": null,
      "outputs": []
    },
    {
      "cell_type": "code",
      "metadata": {},
      "source": [
        "df_no_outliers[\n",
        "    df_no_outliers[\"sum_gamerounds\"] == 0\n",
        "]"
      ],
      "id": "a79ddc8f",
      "execution_count": null,
      "outputs": []
    },
    {
      "cell_type": "markdown",
      "metadata": {},
      "source": [
        "- There are 7988 instances of users playing no games at all. \n",
        "\n",
        "# Analysis\n",
        "\n",
        "## Modeling Count\n",
        "- Poisson or negative binomial distribution\n"
      ],
      "id": "9ed8f745"
    },
    {
      "cell_type": "code",
      "metadata": {},
      "source": [
        "control_s = df_no_outliers[df_no_outliers[\"version\"] == 'gate_30']['sum_gamerounds']\n",
        "treatment_s = df_no_outliers[df_no_outliers[\"version\"] == 'gate_40']['sum_gamerounds']\n",
        "\n",
        "mean_control = control_s.mean()\n",
        "variance_control = control_s.var()\n",
        "\n",
        "mean_treatment = treatment_s.mean()\n",
        "variance_treatment = treatment_s.var()\n",
        "\n",
        "print(f\"Control group - mean: {mean_control:.2f}, variance: {variance_control:.2f}\")\n",
        "print(f\"Treament group - mean: {mean_treatment:.2f}, variance: {variance_treatment:.2f}\")"
      ],
      "id": "32406fca",
      "execution_count": null,
      "outputs": []
    },
    {
      "cell_type": "markdown",
      "metadata": {},
      "source": [
        "Since our data has overdispersion (variance significantly greater than the mean), the negative binomial distribution is a more appropriate choice.\n",
        "\n",
        "## Model\n"
      ],
      "id": "03622db5"
    },
    {
      "cell_type": "code",
      "metadata": {},
      "source": [
        "with pm.Model() as model:\n",
        "    # priors for the means of each group\n",
        "    mu_control = pm.Gamma('mu_control', alpha=2, beta=1)\n",
        "    mu_treatment = pm.Gamma('mu_treatment', alpha=2, beta=1)\n",
        "\n",
        "    # priors for the dispersion parameters\n",
        "    alpha_control = pm.HalfCauchy('alpha_control', beta=10)\n",
        "    alpha_treatment = pm.HalfCauchy('alpha_treatment', beta=10)\n",
        "\n",
        "    # likelihoods\n",
        "    observed_control = pm.NegativeBinomial(\n",
        "        'obs_control',\n",
        "        mu=mu_control,\n",
        "        alpha=alpha_control,\n",
        "        observed=control_s\n",
        "    )\n",
        "\n",
        "    observed_treatment = pm.NegativeBinomial(\n",
        "        'obs_treatment',\n",
        "        mu=mu_treatment,\n",
        "        alpha=alpha_treatment,\n",
        "        observed=treatment_s\n",
        "    )\n",
        "\n",
        "    diff_of_means = pm.Deterministic('diff_of_means', mu_treatment - mu_control)\n",
        "\n",
        "model.to_graphviz(save='images/rounds_model.png')"
      ],
      "id": "59d8d639",
      "execution_count": null,
      "outputs": []
    },
    {
      "cell_type": "code",
      "metadata": {},
      "source": [
        "with model:\n",
        "    idata = pm.sample_prior_predictive(1000)"
      ],
      "id": "ce7730d0",
      "execution_count": null,
      "outputs": []
    },
    {
      "cell_type": "code",
      "metadata": {},
      "source": [
        "az.plot_ppc(idata, group='prior')"
      ],
      "id": "21833b2f",
      "execution_count": null,
      "outputs": []
    },
    {
      "cell_type": "code",
      "metadata": {},
      "source": [
        "with model:\n",
        "    idata_posterior = pm.sample(5000)"
      ],
      "id": "8326bcf9",
      "execution_count": null,
      "outputs": []
    },
    {
      "cell_type": "code",
      "metadata": {},
      "source": [
        "fig, ax = plt.subplots(figsize=(8,5))\n",
        "fig.suptitle('No Difference in Rounds Played Between Gates', fontsize=15)\n",
        "az.plot_posterior(idata_posterior.posterior['diff_of_means'], rope=[-2, 2], ax=ax) \n",
        "\n",
        "ax.set_title('Posterior Distribution of the Difference in Means', fontsize=10)\n",
        "plt.savefig('images/rounds_diff_means.png')"
      ],
      "id": "246af3ea",
      "execution_count": null,
      "outputs": []
    },
    {
      "cell_type": "markdown",
      "metadata": {},
      "source": [
        "- The posterior plot shows that the difference in means is centered around -0.26 with a 94% CI from -0.82 to 0.25.\n",
        "- The treatment effect on game rounds playes is small. And since it includes 0, we cannot definitely say that the treatment has any tangible effect. \n",
        "- And say we thought that 2 games plus or minus amounts to no effect, 100% of our posterior lies within this ROPE.\n"
      ],
      "id": "f140c68d"
    },
    {
      "cell_type": "code",
      "metadata": {},
      "source": [
        "with model:\n",
        "    idata_ppc = pm.sample_posteror_predictive(idata_posterior,)"
      ],
      "id": "4025ed70",
      "execution_count": null,
      "outputs": []
    },
    {
      "cell_type": "code",
      "metadata": {},
      "source": [
        "az.plot_ppc(idata_ppc, group='posterior', num_pp_samples=100)"
      ],
      "id": "c21a49d8",
      "execution_count": null,
      "outputs": []
    }
  ],
  "metadata": {
    "kernelspec": {
      "name": "python3",
      "language": "python",
      "display_name": "Python 3 (ipykernel)"
    }
  },
  "nbformat": 4,
  "nbformat_minor": 5
}
{
 "cells": [
  {
   "cell_type": "code",
   "execution_count": 1,
   "metadata": {},
   "outputs": [
    {
     "name": "stderr",
     "output_type": "stream",
     "text": [
      "WARNING (pytensor.tensor.blas): Using NumPy C-API based implementation for BLAS functions.\n"
     ]
    }
   ],
   "source": [
    "import pymc as pm\n",
    "import pandas as pd\n",
    "import numpy as np\n",
    "import matplotlib.pyplot as plt \n",
    "import arviz as az\n",
    "\n",
    "from collections import namedtuple\n",
    "from dataclasses import dataclass\n",
    "from scipy.stats import bernoulli, expon"
   ]
  },
  {
   "cell_type": "code",
   "execution_count": 2,
   "metadata": {},
   "outputs": [],
   "source": [
    "RANDOM_SEED = 4000\n",
    "rng = np.random.default_rng(RANDOM_SEED)\n",
    "\n",
    "plt.style.use(\"bmh\")\n",
    "\n",
    "plotting_defaults = dict(\n",
    "    bins=50,\n",
    "    kind=\"hist\",\n",
    "    textsize=10,\n",
    ")"
   ]
  },
  {
   "cell_type": "markdown",
   "metadata": {},
   "source": [
    "# What are A/B tests?\n",
    "\n",
    "A/B testing (also known as split testing) is a process of showing two variants of the same web page to different segments of website visitors at the same time and comparing which variant drives more conversions. \n",
    "\n",
    "Specifically, A/B tests are often used in the software industry to determine whether a new feature or changes to an existing feature should be released to users, and the impact of the change on core product metrics (“conversions”). Furthermore:\n",
    "\n",
    "We can test more than two variants at the same time. We’ll be dealing with how to analyse these tests in this notebook as well.\n",
    "Exactly what “conversions” means can vary between tests, but two classes of conversions we’ll focus on are:\n",
    "1. Bernoulli conversions - a flag for whether the visitor did the target action or not (e.g. completed at least one purchase).\n",
    "2. Value conversions - a real value per visitor (e.g. the dollar revenue, which could also be 0)."
   ]
  },
  {
   "cell_type": "markdown",
   "metadata": {},
   "source": [
    "# Bernoulli conversions"
   ]
  },
  {
   "cell_type": "code",
   "execution_count": 3,
   "metadata": {},
   "outputs": [],
   "source": [
    "@dataclass\n",
    "class BetaPrior:\n",
    "    alpha: float\n",
    "    beta: float\n",
    "\n",
    "\n",
    "@dataclass\n",
    "class BinomialData:\n",
    "    trials: int\n",
    "    successes: int"
   ]
  },
  {
   "cell_type": "code",
   "execution_count": 119,
   "metadata": {},
   "outputs": [],
   "source": [
    "class ConversionModelTwoVariant:\n",
    "    def __init__(self, priors: BetaPrior):\n",
    "        self.priors = priors\n",
    "    def create_model(self, data):\n",
    "        trials = [d.trials for d in data]\n",
    "        successes = [d.successes for d in data]\n",
    "\n",
    "        with pm.Model() as model:\n",
    "            prior = pm.Beta(\"prior\",\n",
    "                            alpha=self.priors.alpha,\n",
    "                            beta=self.priors.beta,\n",
    "                            shape=2)\n",
    "            likelihood = pm.Binomial(\"likelihood\",\n",
    "                                     n=trials,\n",
    "                                     p=prior,\n",
    "                                     shape=2,\n",
    "                                     observed=successes)\n",
    "            rel_uplift = pm.Deterministic(\"rel_uplift_b\", prior[1] / prior[0] - 1)\n",
    "\n",
    "        return model"
   ]
  },
  {
   "cell_type": "markdown",
   "metadata": {},
   "source": [
    "## Data generation\n",
    "\n",
    "We generate two datasets:\n",
    "1. Where the \"true\" conversion rate in *the same*\n",
    "2. Where the variant *B* has a higher true converstion rate."
   ]
  },
  {
   "cell_type": "code",
   "execution_count": 120,
   "metadata": {},
   "outputs": [],
   "source": [
    "def generate_binomial_data(variants,\n",
    "                         true_rates,\n",
    "                         samples_per_variant: int = 100000):\n",
    "    data = {}\n",
    "    for variant, rate in zip(variants, true_rates):\n",
    "        data[variant] = bernoulli.rvs(rate, size=samples_per_variant)\n",
    "        agg = (pd.DataFrame(data)\n",
    "                .aggregate([\"count\", \"sum\"])\n",
    "                .rename(index={\"count\":\"trials\",\n",
    "                               \"sum\": \"successes\"}))\n",
    "    return agg"
   ]
  },
  {
   "cell_type": "code",
   "execution_count": 121,
   "metadata": {},
   "outputs": [
    {
     "name": "stdout",
     "output_type": "stream",
     "text": [
      "                A       B\n",
      "trials     100000  100000\n",
      "successes   23024   22994\n"
     ]
    },
    {
     "data": {
      "text/plain": [
       "[BinomialData(trials=100000, successes=23024),\n",
       " BinomialData(trials=100000, successes=22994)]"
      ]
     },
     "execution_count": 121,
     "metadata": {},
     "output_type": "execute_result"
    }
   ],
   "source": [
    "variants = [\"A\", \"B\"]\n",
    "generated = generate_binomial_data(variants=[\"A\", \"B\"],\n",
    "                     true_rates=[0.23, 0.23])\n",
    "print(generated)\n",
    "\n",
    "data =[BinomialData(**generated[v].to_dict()) for v in variants ]\n",
    "data"
   ]
  },
  {
   "cell_type": "markdown",
   "metadata": {},
   "source": [
    "We create a function to wrap the data generation, sampling, and posterior plots so that we can easily compare the results of both models (strong and weak prior) and under both scenarios (same true rate vs different true rates)."
   ]
  },
  {
   "cell_type": "code",
   "execution_count": 122,
   "metadata": {},
   "outputs": [],
   "source": [
    "def run_scenario_two_variant(variants,\n",
    "                             true_rates,\n",
    "                             samples_per_variant: int,\n",
    "                             weak_prior: BetaPrior,\n",
    "                             strong_prior: BetaPrior):\n",
    "    generated_data = generate_binomial_data(variants,\n",
    "                                            true_rates,\n",
    "                                            samples_per_variant)\n",
    "    data = [\n",
    "        BinomialData(**generated_data[v].to_dict()) for v in variants\n",
    "    ]\n",
    "    with ConversionModelTwoVariant(priors=weak_prior).create_model(data):\n",
    "        trace_weak = pm.sample(draws=5000)\n",
    "\n",
    "    with ConversionModelTwoVariant(priors=strong_prior).create_model(data):\n",
    "        trace_strong = pm.sample(draws=5000)\n",
    "    \n",
    "    true_rel_uplift = true_rates[1] / true_rates[0] - 1\n",
    "\n",
    "    fig, axes =plt.subplots(2, 1, figsize=(7, 7), sharex=True)\n",
    "    az.plot_posterior(\n",
    "        trace_weak.posterior[\"rel_uplift_b\"],\n",
    "        ax=axes[0],\n",
    "        **plotting_defaults\n",
    "    )\n",
    "    axes[0].set_tile(f\"True Relative Uplift = {true_rel_uplift:.1%}, {weak_prior}\")\n",
    "\n",
    "    az.plot_posterior(\n",
    "        trace_strong.posterior[\"rel_uplift_b\"],\n",
    "        ax=axes[1],\n",
    "        **plotting_defaults\n",
    "    )\n",
    "    axes[1].set_tile(f\"True Relative Uplift = {true_rel_uplift:.1%}, {strong_prior}\")\n",
    "\n",
    "    fig.suptitle(\"B vs. A Relative Uplift\")"
   ]
  },
  {
   "cell_type": "code",
   "execution_count": 123,
   "metadata": {},
   "outputs": [],
   "source": [
    "from dataclasses import dataclass\n",
    "from typing import Dict, List, Union"
   ]
  },
  {
   "cell_type": "code",
   "execution_count": 124,
   "metadata": {},
   "outputs": [],
   "source": [
    "@dataclass\n",
    "class BetaPrior:\n",
    "    alpha: float\n",
    "    beta: float\n",
    "\n",
    "@dataclass\n",
    "class BinomialData:\n",
    "    trials: int\n",
    "    successes: int\n",
    "    "
   ]
  },
  {
   "cell_type": "code",
   "execution_count": 125,
   "metadata": {},
   "outputs": [],
   "source": [
    "class ConversionModelTwoVariant:\n",
    "    def __init__(self, priors: BetaPrior):\n",
    "        self.priors = priors\n",
    "\n",
    "    def create_model(self, data: List[BinomialData]) -> pm.Model:\n",
    "        trials = [d.trials for d in data]\n",
    "        successes = [d.successes for d in data]\n",
    "        with pm.Model() as model:\n",
    "            p = pm.Beta(\"p\", alpha=self.priors.alpha, beta=self.priors.beta, shape=2)\n",
    "            obs = pm.Binomial(\"y\", n=trials, p=p, shape=2, observed=successes)\n",
    "            reluplift = pm.Deterministic(\"reluplift_b\", p[1] / p[0] - 1)\n",
    "        return model"
   ]
  },
  {
   "cell_type": "code",
   "execution_count": null,
   "metadata": {},
   "outputs": [],
   "source": [
    "trace_weak, trace_trong = run_scenario_two_variant(\n",
    "    variants=[\"A\", \"B\"],\n",
    "    true_rates=[0.23, 0.23],\n",
    "    samples_per_variant=100,\n",
    "    weak_prior=BetaPrior(alpha=100, beta=100),\n",
    "    strong_prior=BetaPrior(alpha=10000, beta=10000)\n",
    ")"
   ]
  }
 ],
 "metadata": {
  "kernelspec": {
   "display_name": "abtest-2901sMhv",
   "language": "python",
   "name": "python3"
  },
  "language_info": {
   "codemirror_mode": {
    "name": "ipython",
    "version": 3
   },
   "file_extension": ".py",
   "mimetype": "text/x-python",
   "name": "python",
   "nbconvert_exporter": "python",
   "pygments_lexer": "ipython3",
   "version": "3.12.3"
  }
 },
 "nbformat": 4,
 "nbformat_minor": 2
}
